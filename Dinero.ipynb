{
 "cells": [
  {
   "cell_type": "code",
   "execution_count": 6,
   "metadata": {},
   "outputs": [
    {
     "name": "stdout",
     "output_type": "stream",
     "text": [
      "Inversión inicial: 116666 Dolares\n",
      "Tasa de interés: 3.65%\n",
      "Plazo: 60 días\n",
      "Impuestos: 10.0%\n",
      "\n",
      "Intereses brutos: 700.00 Dolares\n",
      "Intereses netos (después de impuestos): 630.00 Dolares\n",
      "Monto final después de intereses e impuestos: 117296.00 Dolares\n"
     ]
    }
   ],
   "source": [
    "def calcular_intereses(inversion, tasa, plazo_dias, impuestos):\n",
    "    # Calcular intereses simples\n",
    "    intereses_brutos = inversion * (tasa / 100) * (plazo_dias / 365)\n",
    "\n",
    "    # Aplicar impuestos\n",
    "    intereses_netos = intereses_brutos * (1 - impuestos)\n",
    "\n",
    "    # Calcular el monto total después de intereses e impuestos\n",
    "    monto_final = inversion + intereses_netos\n",
    "\n",
    "    return intereses_brutos, intereses_netos, monto_final\n",
    "\n",
    "# Definir los parámetros\n",
    "inversion_inicial = 116666  # en dolares\n",
    "tasa_interes = 3.65  # en porcentaje\n",
    "plazo_dias = 60\n",
    "impuestos = 0.10  # 10% de impuestos\n",
    "\n",
    "# Calcular e imprimir los resultados\n",
    "intereses_brutos, intereses_netos, monto_final = calcular_intereses(inversion_inicial, tasa_interes, plazo_dias, impuestos)\n",
    "\n",
    "print(f\"Inversión inicial: {inversion_inicial} Dolares\")\n",
    "print(f\"Tasa de interés: {tasa_interes}%\")\n",
    "print(f\"Plazo: {plazo_dias} días\")\n",
    "print(f\"Impuestos: {impuestos * 100}%\")\n",
    "\n",
    "print(f\"\\nIntereses brutos: {intereses_brutos:.2f} Dolares\")\n",
    "print(f\"Intereses netos (después de impuestos): {intereses_netos:.2f} Dolares\")\n",
    "print(f\"Monto final después de intereses e impuestos: {monto_final:.2f} Dolares\")\n"
   ]
  }
 ],
 "metadata": {
  "kernelspec": {
   "display_name": "Python 3",
   "language": "python",
   "name": "python3"
  },
  "language_info": {
   "codemirror_mode": {
    "name": "ipython",
    "version": 3
   },
   "file_extension": ".py",
   "mimetype": "text/x-python",
   "name": "python",
   "nbconvert_exporter": "python",
   "pygments_lexer": "ipython3",
   "version": "3.11.4"
  }
 },
 "nbformat": 4,
 "nbformat_minor": 2
}
